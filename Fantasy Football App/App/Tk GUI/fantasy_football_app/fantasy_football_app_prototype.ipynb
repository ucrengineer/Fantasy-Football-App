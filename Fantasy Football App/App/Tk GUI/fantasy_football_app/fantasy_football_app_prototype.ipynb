{
 "cells": [
  {
   "cell_type": "code",
   "execution_count": 2,
   "metadata": {},
   "outputs": [
    {
     "name": "stdout",
     "output_type": "stream",
     "text": [
      "Database connected successfully\n"
     ]
    },
    {
     "name": "stderr",
     "output_type": "stream",
     "text": [
      "C:\\Users\\moffe\\AppData\\Local\\Programs\\Python\\Python37\\lib\\site-packages\\ipykernel_launcher.py:130: MatplotlibDeprecationWarning: Adding an axes using the same arguments as a previous axes currently reuses the earlier instance.  In a future version, a new instance will always be created and returned.  Meanwhile, this warning can be suppressed, and the future behavior ensured, by passing a unique label to each axes instance.\n",
      "C:\\Users\\moffe\\AppData\\Local\\Programs\\Python\\Python37\\lib\\site-packages\\ipykernel_launcher.py:133: MatplotlibDeprecationWarning: Adding an axes using the same arguments as a previous axes currently reuses the earlier instance.  In a future version, a new instance will always be created and returned.  Meanwhile, this warning can be suppressed, and the future behavior ensured, by passing a unique label to each axes instance.\n",
      "C:\\Users\\moffe\\AppData\\Local\\Programs\\Python\\Python37\\lib\\site-packages\\ipykernel_launcher.py:134: MatplotlibDeprecationWarning: Adding an axes using the same arguments as a previous axes currently reuses the earlier instance.  In a future version, a new instance will always be created and returned.  Meanwhile, this warning can be suppressed, and the future behavior ensured, by passing a unique label to each axes instance.\n",
      "C:\\Users\\moffe\\AppData\\Local\\Programs\\Python\\Python37\\lib\\site-packages\\ipykernel_launcher.py:135: MatplotlibDeprecationWarning: Adding an axes using the same arguments as a previous axes currently reuses the earlier instance.  In a future version, a new instance will always be created and returned.  Meanwhile, this warning can be suppressed, and the future behavior ensured, by passing a unique label to each axes instance.\n",
      "C:\\Users\\moffe\\AppData\\Local\\Programs\\Python\\Python37\\lib\\site-packages\\ipykernel_launcher.py:136: MatplotlibDeprecationWarning: Adding an axes using the same arguments as a previous axes currently reuses the earlier instance.  In a future version, a new instance will always be created and returned.  Meanwhile, this warning can be suppressed, and the future behavior ensured, by passing a unique label to each axes instance.\n"
     ]
    },
    {
     "name": "stdout",
     "output_type": "stream",
     "text": [
      "Database connected successfully\n",
      "Database connected successfully\n"
     ]
    }
   ],
   "source": [
    "import tkinter as tk\n",
    "from tkinter import ttk\n",
    "import psycopg2 \n",
    "import pandas.io.sql as psql\n",
    "from matplotlib.backends.backend_tkagg import (\n",
    "    FigureCanvasTkAgg, NavigationToolbar2Tk)\n",
    "from matplotlib.backend_bases import key_press_handler\n",
    "from matplotlib.figure import Figure\n",
    "import numpy as np\n",
    "\n",
    "\n",
    "class Screen(tk.Frame):\n",
    "    def __init__(self,*args,**kwargs):\n",
    "        super().__init__(*args,**kwargs)\n",
    "        pass\n",
    "        #fig = Figure(figsize=(5,4),dpi=100)\n",
    "        #t = np.arange(6)\n",
    "        #fig.add_subplot(111).bar(t,2*t)\n",
    "        #canvas = FigureCanvasTkAgg(fig,master = self)\n",
    "        #canvas.draw()\n",
    "        #canvas.get_tk_widget().pack(side=tk.TOP, fill=tk.BOTH, expand=1)\n",
    "\n",
    "class otherside(tk.Frame):\n",
    "    def __init__(self,parent,*args,**kwargs):\n",
    "        super().__init__(parent,*args,**kwargs)\n",
    "        \n",
    "        name_teams = ['ARI','ATL','BAL','BUF','CAR','CHI','CIN','CLE','DAL','DEN','DET','GB','HOU','IND',\\\n",
    "                      'JAX','KC','LAC','LAR','MIA','MIN','NE','NO','NYG','NYJ','OAK','PHI','PIT',\\\n",
    "                      'SEA','SF','TB','TEN','WAS'] \n",
    "        self.team_choice = tk.StringVar()\n",
    "        self.pos_choice = tk.StringVar()\n",
    "        \n",
    "        self.choice_1 = tk.StringVar()\n",
    "        self.choice_2 = tk.StringVar()\n",
    "        \n",
    "        label_head = ttk.Label(self,text=\"Choose a Defending and Opposing Team\")\n",
    "        team_1 = ttk.Combobox(self,textvariable=self.choice_1 ,values = name_teams)\n",
    "        team_2 = ttk.Combobox(self,textvariable=self.choice_2 , values = name_teams)\n",
    "        done_button = ttk.Button(self,text=\"Done\",command=self.on_press)\n",
    "        \n",
    "      \n",
    "        \n",
    "        \n",
    "        label_head.grid(row=0,column=1)\n",
    "        team_1.grid(row=1,column = 0)\n",
    "        team_2.grid(row=1,column = 3)\n",
    "        done_button.grid(row=2,column=1)\n",
    "        \n",
    "       \n",
    "    \n",
    "    def on_press(self):\n",
    "        #connect to database and gather data\n",
    "        \n",
    "        \n",
    "        name_teams = ['ARI','ATL','BAL','BUF','CAR','CHI','CIN','CLE','DAL','DEN','DET','GB','HOU','IND',\\\n",
    "                      'JAX','KC','LAC','LAR','MIA','MIN','NE','NO','NYG','NYJ','OAK','PHI','PIT',\\\n",
    "                      'SEA','SF','TB','TEN','WAS'] \n",
    "        \n",
    "        \n",
    "        label_players = ttk.Label(self,text='')\n",
    "        DB_NAME = "db"
            DB_USER = "dbname"
            DB_PASS = "dbpass"
            DB_HOST = "raja.db.elephantsql.com"
            DB_PORT = "port#"
    "\n",
    "        conn = psycopg2.connect(database = DB_NAME, user = DB_USER,\n",
    "                        password=DB_PASS, host= DB_HOST,port=DB_PORT)\n",
    "\n",
    "\n",
    "        print(\"Database connected successfully\")\n",
    "        \n",
    "        df_1 = psql.read_sql(\"SELECT * FROM fantasy_points_allowed\\\n",
    "        WHERE team = '{}'\".format(self.choice_1.get()), conn)\n",
    "        \n",
    "        df_2 = psql.read_sql(\"SELECT * FROM fantasy_points_allowed\\\n",
    "        WHERE team = '{}'\".format(self.choice_2.get()), conn)\n",
    "        \n",
    "        self.qb_ranks_1 = df_1['qb_rank']\n",
    "        self.rb_ranks_1 = df_1['rb_rank']\n",
    "        \n",
    "        self.qb_ranks_2 = df_2['qb_rank']\n",
    "        self.rb_ranks_2 = df_2['rb_rank']\n",
    "        \n",
    "        self.rbppr_ranks_1 = df_1['rbppr_rank']\n",
    "        self.rbppr_ranks_2 = df_2['rbppr_rank']\n",
    "        \n",
    "        \n",
    "        self.wr_ranks_1 = df_1['wr_rank']\n",
    "        self.wr_ranks_2 = df_2['wr_rank']\n",
    "        \n",
    "        self.wrppr_ranks_1 = df_1['wrppr_rank']\n",
    "        self.wrppr_ranks_2 = df_2['wrppr_rank']\n",
    "        \n",
    "        self.te_ranks_1 = df_1['te_rank']\n",
    "        self.te_ranks_2 = df_2['te_rank']\n",
    "        \n",
    "        self.teppr_ranks_1 = df_1['teppr_rank']\n",
    "        self.teppr_ranks_2 = df_2['teppr_rank']\n",
    "        \n",
    "        self.def_ranks_1 = df_1['def_ranks']\n",
    "        self.def_ranks_2 = df_2['def_ranks']\n",
    "        \n",
    "        self.dfl_1 = df_1['dfl']\n",
    "        self.dfl_2 = df_2['dfl']\n",
    "        \n",
    "        self.ofl_1 = df_1['ofl']\n",
    "        self.ofl_2 = df_2['ofl']\n",
    "        \n",
    "        self.short_1 = df_1['short']\n",
    "        self.short_2 = df_2['short']\n",
    "        \n",
    "        self.deep_1 = df_1['deep']\n",
    "        self.deep_2 = df_2['deep']\n",
    "          \n",
    "        \n",
    "        bar_width = .35   \n",
    "        fig = Figure(figsize=(7,6),dpi=100)\n",
    "        t = np.arange(12)\n",
    "        team1 = (int(self.rb_ranks_1),int(self.qb_ranks_1),int(self.rbppr_ranks_1),int(self.wr_ranks_1),\\\n",
    "                int(self.wrppr_ranks_1),int(self.te_ranks_1),int(self.teppr_ranks_1),int(self.def_ranks_1),\\\n",
    "                int(self.dfl_1),int(self.ofl_1),int(self.short_1),int(self.deep_1))\n",
    "        \n",
    "        team2 = (int(self.rb_ranks_2),int(self.qb_ranks_2),int(self.rbppr_ranks_2),int(self.wr_ranks_2),\\\n",
    "                int(self.wrppr_ranks_2),int(self.te_ranks_2),int(self.teppr_ranks_2),int(self.def_ranks_2),\\\n",
    "                int(self.dfl_2),int(self.ofl_2),int(self.short_2),int(self.deep_2))\n",
    "        \n",
    "        \n",
    "        fig.add_subplot(111).bar(t,team1,bar_width,alpha = .4,color='b')          \n",
    "        fig.add_subplot(111).bar(t+bar_width,team2,bar_width,alpha = .4,color = 'r')       \n",
    "        canvas = FigureCanvasTkAgg(fig,master = self)\n",
    "        canvas.draw()\n",
    "        fig.add_subplot(111).set_xticks(t + bar_width / 2)\n",
    "        fig.add_subplot(111).set_xticklabels(['QB','RB','RB-PPR','WR','WR-PPR','TE','TE-PPR','DEF','DFL','OFL','SHORT','DEEP'])\n",
    "        fig.add_subplot(111).set_title(\"Fantasy Points Allowed\")\n",
    "        fig.add_subplot(111).legend([self.choice_1.get(),self.choice_2.get()])\n",
    "        canvas.get_tk_widget().grid(row=3,column=1,sticky=(tk.E+tk.W+tk.N+tk.S))\n",
    "        self.columnconfigure(1,weight=1)\n",
    "        self.rowconfigure(3,weight=1)\n",
    "        \n",
    "        \n",
    "        label_pos = ttk.Label(self,text=\"Choose team & position\")\n",
    "        team_button = ttk.Combobox(self,textvariable=self.team_choice,values = name_teams)\n",
    "        pos_button = ttk.Combobox(self,textvariable=self.pos_choice,values = ['QB','RB','WR','TE'])\n",
    "        done_button2 = ttk.Button(self,text=\"Done\",command=self.show_player)\n",
    "        label_pos.grid(row=4,column=1)\n",
    "        team_button.grid(row=5,column=0)\n",
    "        pos_button.grid(row=5,column=2)\n",
    "        done_button2.grid(row=5,column=1) \n",
    "        return conn\n",
    "    def show_player(self): \n",
    "       \n",
    "    \n",
    "        DB_NAME = \"vassiqtl\"\n",
    "        DB_USER = \"vassiqtl\"\n",
    "        DB_PASS = \"QIM8NDA9Xp19kPDg4JpwQPrN87HoTIeL\"\n",
    "        DB_HOST = \"raja.db.elephantsql.com\"\n",
    "        DB_PORT = \"5432\"\n",
    "\n",
    "        conn = psycopg2.connect(database = DB_NAME, user = DB_USER,\n",
    "                        password=DB_PASS, host= DB_HOST,port=DB_PORT)\n",
    "\n",
    "        \n",
    "        \n",
    "        player_data = psql.read_sql(\"SELECT name,team,pos,tchs_atts FROM nfl_player\\\n",
    "        WHERE pos= '{0}' AND team = '{1}'\".format(self.pos_choice.get(),self.team_choice.get()),conn)   \n",
    "        players_list = tk.StringVar()\n",
    "        players_list = player_data.head()\n",
    "        players = ttk.Label(self,text=players_list)\n",
    "        players.grid(row=6,column=1)\n",
    "        \n",
    "        \n",
    "        \n",
    "        conn.close()\n",
    "\n",
    "\n",
    "        \n",
    "        \n",
    "        \n",
    "class MyApp(tk.Tk):\n",
    "    def __init__(self,*args,**kwargs):\n",
    "        super().__init__(*args,**kwargs)\n",
    "        \n",
    "        self.geometry(\"1500x1000\")\n",
    "        self.title(\"Embedding in Tk\")\n",
    "        #Screen(self).grid(row=1,column=0,sticky=(tk.E+tk.W+tk.N+tk.S))\n",
    "        otherside(self).grid(row=0,column=0)\n",
    "        self.columnconfigure(0, weight =1)\n",
    "        self.rowconfigure(1,weight=1)\n",
    "if __name__ == '__main__':\n",
    "    app = MyApp()\n",
    "    app.mainloop()\n",
    "        "
   ]
  },
  {
   "cell_type": "code",
   "execution_count": 206,
   "metadata": {},
   "outputs": [
    {
     "data": {
      "text/plain": [
       "'        df2 = psql.read_sql(\"SELECT name,team,pos,tchs_atts FROM nfl_player        WHERE pos= \\'{0}\\' AND team = \\'{1}\\'\".format(\\'RB\\',self.choice_1.get()),conn)\\n        \\n        label_players = ttk.Label(self,text= \\'{0}\\'.format(df2),font=80)\\n        label_players.grid(row=3,column=0,columnspan=4)'"
      ]
     },
     "execution_count": 206,
     "metadata": {},
     "output_type": "execute_result"
    }
   ],
   "source": [
    "\"\"\"        df2 = psql.read_sql(\"SELECT name,team,pos,tchs_atts FROM nfl_player\\\n",
    "        WHERE pos= '{0}' AND team = '{1}'\".format('RB',self.choice_1.get()),conn)\n",
    "        \n",
    "        label_players = ttk.Label(self,text= '{0}'.format(df2),font=80)\n",
    "        label_players.grid(row=3,column=0,columnspan=4)\"\"\""
   ]
  },
  {
   "cell_type": "code",
   "execution_count": 177,
   "metadata": {},
   "outputs": [
    {
     "data": {
      "text/plain": [
       "'This is a prototype, it will be recoded'"
      ]
     },
     "execution_count": 177,
     "metadata": {},
     "output_type": "execute_result"
    }
   ],
   "source": [
    "\"\"\"Still need to add Short,Deep,OFL,DLF\"\"\"\n",
    "\"\"\"This is a prototype, it will be recoded\"\"\""
   ]
  }
 ],
 "metadata": {
  "kernelspec": {
   "display_name": "Python 3",
   "language": "python",
   "name": "python3"
  },
  "language_info": {
   "codemirror_mode": {
    "name": "ipython",
    "version": 3
   },
   "file_extension": ".py",
   "mimetype": "text/x-python",
   "name": "python",
   "nbconvert_exporter": "python",
   "pygments_lexer": "ipython3",
   "version": "3.7.3"
  }
 },
 "nbformat": 4,
 "nbformat_minor": 2
}
