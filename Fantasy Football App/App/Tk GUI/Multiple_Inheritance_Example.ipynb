{
 "cells": [
  {
   "cell_type": "code",
   "execution_count": 1,
   "metadata": {},
   "outputs": [
    {
     "data": {
      "text/plain": [
       "' This is a example code showing the power of multiple inheritance'"
      ]
     },
     "execution_count": 1,
     "metadata": {},
     "output_type": "execute_result"
    }
   ],
   "source": [
    "\"\"\" This is a example code showing the power of multiple inheritance\"\"\""
   ]
  },
  {
   "cell_type": "code",
   "execution_count": 2,
   "metadata": {},
   "outputs": [],
   "source": [
    "class Displayer():\n",
    "    \n",
    "    def display(self,message):\n",
    "        print(message)\n"
   ]
  },
  {
   "cell_type": "code",
   "execution_count": 3,
   "metadata": {},
   "outputs": [],
   "source": [
    "class LoggerMixin():\n",
    "    def log(self,message,filename='logfile.txt'):\n",
    "        with open(filename,'a') as fh:\n",
    "            fh.write(message)\n",
    "    \n",
    "    def display(self,message):\n",
    "        super().display(message)\n",
    "        self.log(message)"
   ]
  },
  {
   "cell_type": "code",
   "execution_count": 13,
   "metadata": {},
   "outputs": [],
   "source": [
    "class MySubClass(LoggerMixin, Displayer):\n",
    "    \n",
    "    def log(self,message):\n",
    "        super().log(message,filename='subclasslog.txt')"
   ]
  },
  {
   "cell_type": "code",
   "execution_count": 14,
   "metadata": {},
   "outputs": [
    {
     "name": "stdout",
     "output_type": "stream",
     "text": [
      "ok, bye\n"
     ]
    }
   ],
   "source": [
    "subclass = MySubClass()\n",
    "subclass.display(\"ok, bye\")"
   ]
  },
  {
   "cell_type": "code",
   "execution_count": 9,
   "metadata": {},
   "outputs": [],
   "source": [
    "# the mixer class is LoggerMixin"
   ]
  },
  {
   "cell_type": "code",
   "execution_count": 10,
   "metadata": {},
   "outputs": [
    {
     "data": {
      "text/plain": [
       "'These all follow the Method Resolution Order'"
      ]
     },
     "execution_count": 10,
     "metadata": {},
     "output_type": "execute_result"
    }
   ],
   "source": [
    "# Remember that self.method() looks for method() in the current class first, then follow the list of inherited classes\n",
    "# from left to right until the method is found.\n",
    "# The super().method() will do the same, except that it skips the current class\n",
    "\"\"\"These all follow the Method Resolution Order\"\"\""
   ]
  },
  {
   "cell_type": "code",
   "execution_count": null,
   "metadata": {},
   "outputs": [],
   "source": [
    "# This is kinda confusing LOl..."
   ]
  }
 ],
 "metadata": {
  "kernelspec": {
   "display_name": "Python 3",
   "language": "python",
   "name": "python3"
  },
  "language_info": {
   "codemirror_mode": {
    "name": "ipython",
    "version": 3
   },
   "file_extension": ".py",
   "mimetype": "text/x-python",
   "name": "python",
   "nbconvert_exporter": "python",
   "pygments_lexer": "ipython3",
   "version": "3.7.3"
  }
 },
 "nbformat": 4,
 "nbformat_minor": 2
}
